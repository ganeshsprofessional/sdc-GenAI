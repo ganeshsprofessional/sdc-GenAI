{
  "nbformat": 4,
  "nbformat_minor": 0,
  "metadata": {
    "colab": {
      "provenance": [],
      "authorship_tag": "ABX9TyM9WQhnjle3tNk8BrYPTk1E",
      "include_colab_link": true
    },
    "kernelspec": {
      "name": "python3",
      "display_name": "Python 3"
    },
    "language_info": {
      "name": "python"
    }
  },
  "cells": [
    {
      "cell_type": "markdown",
      "metadata": {
        "id": "view-in-github",
        "colab_type": "text"
      },
      "source": [
        "<a href=\"https://colab.research.google.com/github/ganeshsprofessional/sdc-GenAI/blob/main/resume_analyzer.ipynb\" target=\"_parent\"><img src=\"https://colab.research.google.com/assets/colab-badge.svg\" alt=\"Open In Colab\"/></a>"
      ]
    },
    {
      "cell_type": "code",
      "execution_count": null,
      "metadata": {
        "id": "ZH2uZmv_zYaX"
      },
      "outputs": [],
      "source": [
        "# AI Resume Analyzer in Google Colab\n",
        "\n",
        "# Install required packages\n",
        "!pip install openai PyPDF2 langchain --quiet\n",
        "\n",
        "import openai\n",
        "import PyPDF2\n",
        "from langchain.llms import OpenAI\n",
        "from langchain.prompts import PromptTemplate\n",
        "\n",
        "# Set your OpenAI API key\n",
        "openai.api_key = \"YOUR_OPENAI_API_KEY\"  # Replace with your API key\n",
        "\n",
        "# Function to extract text from PDF resume\n",
        "def extract_text_from_pdf(pdf_path):\n",
        "    with open(pdf_path, \"rb\") as file:\n",
        "        reader = PyPDF2.PdfReader(file)\n",
        "        text = \"\"\n",
        "        for page in reader.pages:\n",
        "            text += page.extract_text()\n",
        "    return text\n",
        "\n",
        "# Upload resume\n",
        "from google.colab import files\n",
        "uploaded = files.upload()\n",
        "resume_path = next(iter(uploaded))\n",
        "\n",
        "# (Optional) Enter job description for matching\n",
        "job_description = input(\"Paste the job description (or leave blank to skip matching): \")\n",
        "\n",
        "# Extract resume text\n",
        "resume_text = extract_text_from_pdf(resume_path)\n",
        "\n",
        "# Create LangChain LLM\n",
        "llm = OpenAI(temperature=0.3, model_name=\"gpt-3.5-turbo\")\n",
        "\n",
        "# Build prompt for analysis\n",
        "if job_description.strip():\n",
        "    prompt = PromptTemplate(\n",
        "        input_variables=[\"resume\", \"job\"],\n",
        "        template=(\n",
        "            \"Analyze the following resume for strengths, weaknesses, and suggestions for improvement. \"\n",
        "            \"Then, compare it to the provided job description and give a matching score (0-100), \"\n",
        "            \"with a brief explanation of the match.\\n\\n\"\n",
        "            \"Resume:\\n{resume}\\n\\nJob Description:\\n{job}\"\n",
        "        )\n",
        "    )\n",
        "    final_prompt = prompt.format(resume=resume_text, job=job_description)\n",
        "else:\n",
        "    prompt = PromptTemplate(\n",
        "        input_variables=[\"resume\"],\n",
        "        template=(\n",
        "            \"Analyze the following resume. Summarize the candidate's strengths, weaknesses, \"\n",
        "            \"and provide suggestions for improvement.\\n\\nResume:\\n{resume}\"\n",
        "        )\n",
        "    )\n",
        "    final_prompt = prompt.format(resume=resume_text)\n",
        "\n",
        "# Get analysis from LLM\n",
        "analysis = llm(final_prompt)\n",
        "\n",
        "print(\"\\nAI Resume Analysis:\\n\")\n",
        "print(analysis)\n"
      ]
    }
  ]
}