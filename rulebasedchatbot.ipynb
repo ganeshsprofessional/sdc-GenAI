{
  "nbformat": 4,
  "nbformat_minor": 0,
  "metadata": {
    "colab": {
      "provenance": [],
      "authorship_tag": "ABX9TyO+24kTOmH9QwKaIQT7sM0c",
      "include_colab_link": true
    },
    "kernelspec": {
      "name": "python3",
      "display_name": "Python 3"
    },
    "language_info": {
      "name": "python"
    }
  },
  "cells": [
    {
      "cell_type": "markdown",
      "metadata": {
        "id": "view-in-github",
        "colab_type": "text"
      },
      "source": [
        "<a href=\"https://colab.research.google.com/github/ganeshsprofessional/sdc-GenAI/blob/main/rulebasedchatbot.ipynb\" target=\"_parent\"><img src=\"https://colab.research.google.com/assets/colab-badge.svg\" alt=\"Open In Colab\"/></a>"
      ]
    },
    {
      "cell_type": "code",
      "execution_count": null,
      "metadata": {
        "colab": {
          "base_uri": "https://localhost:8080/"
        },
        "id": "YZyUWUtg5wvv",
        "outputId": "8d0449e6-edc0-48d8-91b2-8b282a68f9c5"
      },
      "outputs": [
        {
          "output_type": "stream",
          "name": "stdout",
          "text": [
            "You: hello\n",
            "Chatbot: Hi! How can I help you?\n",
            "You: dklaf\n",
            "Chatbot: I'm not sure how to respond to that. Can you ask something else?\n",
            "You: bye\n",
            "Chatbot: Goodbye! Have a great day!\n",
            "You: what is your name?\n",
            "Chatbot: I'm a simple chatbot created in Google Colab!\n"
          ]
        }
      ],
      "source": [
        "def simple_chatbot(user_input):\n",
        "    user_input = user_input.lower()\n",
        "\n",
        "    responses = {\n",
        "        \"hello\": \"Hi! How can I help you?\",\n",
        "        \"how are you\": \"I'm just a bot, but I'm doing great! How about you?\",\n",
        "        \"bye\": \"Goodbye! Have a great day!\",\n",
        "        \"what is your name\": \"I'm a simple chatbot created in Google Colab!\"\n",
        "    }\n",
        "\n",
        "    for key in responses:\n",
        "        if key in user_input:\n",
        "            return responses[key]\n",
        "\n",
        "    return \"I'm not sure how to respond to that. Can you ask something else?\"\n",
        "\n",
        "# Chat loop\n",
        "while True:\n",
        "    user_input = input(\"You: \")\n",
        "    if user_input.lower() == \"exit\":\n",
        "        print(\"Chatbot: Goodbye!\")\n",
        "        break\n",
        "    response = simple_chatbot(user_input)\n",
        "    print(\"Chatbot:\", response)\n"
      ]
    }
  ]
}