{
  "nbformat": 4,
  "nbformat_minor": 0,
  "metadata": {
    "colab": {
      "provenance": [],
      "authorship_tag": "ABX9TyOO08BaO+6/hRdZFxioEJr2",
      "include_colab_link": true
    },
    "kernelspec": {
      "name": "python3",
      "display_name": "Python 3"
    },
    "language_info": {
      "name": "python"
    }
  },
  "cells": [
    {
      "cell_type": "markdown",
      "metadata": {
        "id": "view-in-github",
        "colab_type": "text"
      },
      "source": [
        "<a href=\"https://colab.research.google.com/github/ganeshsprofessional/sdc-GenAI/blob/main/ai_chatbot.ipynb\" target=\"_parent\"><img src=\"https://colab.research.google.com/assets/colab-badge.svg\" alt=\"Open In Colab\"/></a>"
      ]
    },
    {
      "cell_type": "code",
      "execution_count": null,
      "metadata": {
        "id": "u2_8kWABy4_K"
      },
      "outputs": [],
      "source": [
        "# AI Powered Language Translator with LangChain in Google Colab\n",
        "\n",
        "# Install required packages\n",
        "!pip install openai langchain googletrans==4.0.0-rc1 --quiet\n",
        "\n",
        "from langchain.llms import OpenAI\n",
        "from langchain.prompts import PromptTemplate\n",
        "from googletrans import LANGUAGES\n",
        "\n",
        "import openai\n",
        "\n",
        "# Set your OpenAI API key\n",
        "openai.api_key = \"YOUR_OPENAI_API_KEY\"  # Replace with your API key\n",
        "\n",
        "# List available languages\n",
        "print(\"Available languages:\")\n",
        "for code, name in LANGUAGES.items():\n",
        "    print(f\"{code}: {name}\")\n",
        "\n",
        "# User input\n",
        "source_text = input(\"\\nEnter text to translate: \")\n",
        "target_lang_code = input(\"Enter target language code (e.g., 'fr' for French, 'es' for Spanish): \")\n",
        "\n",
        "# Create LangChain LLM\n",
        "llm = OpenAI(temperature=0.3, model_name=\"gpt-3.5-turbo\")\n",
        "\n",
        "# Create prompt template for translation\n",
        "prompt = PromptTemplate(\n",
        "    input_variables=[\"text\", \"lang\"],\n",
        "    template=\"Translate the following text to {lang}:\\n\\n{text}\"\n",
        ")\n",
        "\n",
        "# Prepare prompt\n",
        "lang_name = LANGUAGES.get(target_lang_code, target_lang_code)\n",
        "final_prompt = prompt.format(text=source_text, lang=lang_name)\n",
        "\n",
        "# Get translation from LLM\n",
        "translation = llm(final_prompt)\n",
        "\n",
        "print(f\"\\nTranslated text ({lang_name}):\\n{translation}\")\n"
      ]
    }
  ]
}