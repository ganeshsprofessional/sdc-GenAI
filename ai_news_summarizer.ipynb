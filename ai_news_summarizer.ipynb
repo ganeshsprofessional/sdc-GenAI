{
  "nbformat": 4,
  "nbformat_minor": 0,
  "metadata": {
    "colab": {
      "provenance": [],
      "authorship_tag": "ABX9TyMSyemFcKbR4nnTpuUQyvw5",
      "include_colab_link": true
    },
    "kernelspec": {
      "name": "python3",
      "display_name": "Python 3"
    },
    "language_info": {
      "name": "python"
    }
  },
  "cells": [
    {
      "cell_type": "markdown",
      "metadata": {
        "id": "view-in-github",
        "colab_type": "text"
      },
      "source": [
        "<a href=\"https://colab.research.google.com/github/ganeshsprofessional/sdc-GenAI/blob/main/ai_news_summarizer.ipynb\" target=\"_parent\"><img src=\"https://colab.research.google.com/assets/colab-badge.svg\" alt=\"Open In Colab\"/></a>"
      ]
    },
    {
      "cell_type": "code",
      "execution_count": null,
      "metadata": {
        "id": "O11vdjRQysWL"
      },
      "outputs": [],
      "source": [
        "# AI News Summarizer in Google Colab\n",
        "\n",
        "# Install OpenAI and newspaper3k for news scraping and summarization\n",
        "!pip install openai newspaper3k --quiet\n",
        "\n",
        "import openai\n",
        "from newspaper import Article\n",
        "\n",
        "# Set your OpenAI API key\n",
        "openai.api_key = \"YOUR_OPENAI_API_KEY\"  # Replace with your API key\n",
        "\n",
        "def fetch_article(url):\n",
        "    article = Article(url)\n",
        "    article.download()\n",
        "    article.parse()\n",
        "    return article.text\n",
        "\n",
        "def summarize_text(text, model=\"gpt-3.5-turbo\"):\n",
        "    prompt = (\n",
        "        \"Summarize the following news article in 3-4 sentences:\\n\\n\"\n",
        "        + text\n",
        "    )\n",
        "    response = openai.ChatCompletion.create(\n",
        "        model=model,\n",
        "        messages=[\n",
        "            {\"role\": \"system\", \"content\": \"You are a helpful news summarizer.\"},\n",
        "            {\"role\": \"user\", \"content\": prompt}\n",
        "        ],\n",
        "        max_tokens=200,\n",
        "        temperature=0.5\n",
        "    )\n",
        "    return response['choices'][0]['message']['content'].strip()\n",
        "\n",
        "# Example usage\n",
        "news_url = input(\"Enter a news article URL: \")\n",
        "try:\n",
        "    article_text = fetch_article(news_url)\n",
        "    print(\"\\nOriginal Article (first 500 chars):\\n\", article_text[:500], \"...\\n\")\n",
        "    summary = summarize_text(article_text)\n",
        "    print(\"AI Summary:\\n\", summary)\n",
        "except Exception as e:\n",
        "    print(\"Error fetching or summarizing the article:\", e)\n"
      ]
    }
  ]
}