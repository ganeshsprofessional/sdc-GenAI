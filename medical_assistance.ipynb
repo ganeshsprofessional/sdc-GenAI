{
  "nbformat": 4,
  "nbformat_minor": 0,
  "metadata": {
    "colab": {
      "provenance": [],
      "authorship_tag": "ABX9TyNd/d2n1WH8tTeKJtRRvuyT",
      "include_colab_link": true
    },
    "kernelspec": {
      "name": "python3",
      "display_name": "Python 3"
    },
    "language_info": {
      "name": "python"
    }
  },
  "cells": [
    {
      "cell_type": "markdown",
      "metadata": {
        "id": "view-in-github",
        "colab_type": "text"
      },
      "source": [
        "<a href=\"https://colab.research.google.com/github/ganeshsprofessional/sdc-GenAI/blob/main/medical_assistance.ipynb\" target=\"_parent\"><img src=\"https://colab.research.google.com/assets/colab-badge.svg\" alt=\"Open In Colab\"/></a>"
      ]
    },
    {
      "cell_type": "code",
      "execution_count": null,
      "metadata": {
        "id": "OPU-5F9Fziro"
      },
      "outputs": [],
      "source": [
        "# AI-Based Medical Assistant Demo in Google Colab\n",
        "\n",
        "# Install OpenAI\n",
        "!pip install openai --quiet\n",
        "\n",
        "import openai\n",
        "\n",
        "# Set your OpenAI API key\n",
        "openai.api_key = \"YOUR_OPENAI_API_KEY\"  # Replace with your API key\n",
        "\n",
        "def ask_medical_ai(question, model=\"gpt-3.5-turbo\"):\n",
        "    response = openai.ChatCompletion.create(\n",
        "        model=model,\n",
        "        messages=[\n",
        "            {\"role\": \"system\", \"content\": \"You are a helpful and knowledgeable medical assistant. You can answer health questions and analyze symptoms. Always remind users to consult a real doctor for serious issues.\"},\n",
        "            {\"role\": \"user\", \"content\": question}\n",
        "        ],\n",
        "        max_tokens=300,\n",
        "        temperature=0.5\n",
        "    )\n",
        "    return response['choices'][0]['message']['content'].strip()\n",
        "\n",
        "print(\"AI Medical Assistant (type 'exit' to quit)\")\n",
        "while True:\n",
        "    user_input = input(\"You: \")\n",
        "    if user_input.lower() == \"exit\":\n",
        "        print(\"Assistant: Take care! Remember to consult a real doctor for medical concerns.\")\n",
        "        break\n",
        "    answer = ask_medical_ai(user_input)\n",
        "    print(\"Assistant:\", answer)\n"
      ]
    }
  ]
}