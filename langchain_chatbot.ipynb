{
  "nbformat": 4,
  "nbformat_minor": 0,
  "metadata": {
    "colab": {
      "provenance": [],
      "authorship_tag": "ABX9TyMlA20fnslqP1tKLaoL7EvS",
      "include_colab_link": true
    },
    "kernelspec": {
      "name": "python3",
      "display_name": "Python 3"
    },
    "language_info": {
      "name": "python"
    }
  },
  "cells": [
    {
      "cell_type": "markdown",
      "metadata": {
        "id": "view-in-github",
        "colab_type": "text"
      },
      "source": [
        "<a href=\"https://colab.research.google.com/github/ganeshsprofessional/sdc-GenAI/blob/main/langchain_chatbot.ipynb\" target=\"_parent\"><img src=\"https://colab.research.google.com/assets/colab-badge.svg\" alt=\"Open In Colab\"/></a>"
      ]
    },
    {
      "cell_type": "code",
      "execution_count": null,
      "metadata": {
        "id": "sa3HtDtl3WGt"
      },
      "outputs": [],
      "source": [
        "!pip install gradio langchain requests --quiet\n"
      ]
    },
    {
      "cell_type": "code",
      "source": [
        "import os\n",
        "import gradio as gr\n",
        "import requests\n",
        "from langchain.memory import ConversationBufferMemory\n",
        "from langchain.chains import ConversationChain\n",
        "from langchain.llms.base import LLM\n",
        "\n",
        "# 🔑 Your DeepAI API Key\n",
        "DEEPAI_API_KEY = \"3e3ff45f-23c7-4571-beab-9099ee9ff942\"  # 👈 Replace this\n",
        "\n",
        "# 🔌 Create a custom LLM class to wrap DeepAI\n",
        "class DeepAILLM(LLM):\n",
        "    def _call(self, prompt: str, stop=None):\n",
        "        try:\n",
        "            response = requests.post(\n",
        "                \"https://api.deepai.org/api/text-generator\",\n",
        "                data={\"text\": prompt},\n",
        "                headers={\"api-key\": DEEPAI_API_KEY}\n",
        "            )\n",
        "            result = response.json()\n",
        "            output = result.get(\"output\")\n",
        "            if not output:\n",
        "                return \"⚠️ No response received from DeepAI.\"\n",
        "            return output.strip()\n",
        "        except Exception as e:\n",
        "            return f\"❌ Error: {str(e)}\"\n",
        "\n",
        "    @property\n",
        "    def _llm_type(self):\n",
        "        return \"deepai\"\n",
        "\n",
        "# 🧠 Setup LangChain with memory\n",
        "llm = DeepAILLM()\n",
        "memory = ConversationBufferMemory()\n",
        "conversation = ConversationChain(llm=llm, memory=memory)\n",
        "\n",
        "# 🗣️ Chat handler\n",
        "def chat_with_bot(message, history):\n",
        "    response = conversation.predict(input=message)\n",
        "    history.append((message, response))\n",
        "    return history, history, \"\"  # \"\" clears the textbox\n",
        "\n",
        "# 🧪 Gradio UI\n",
        "with gr.Blocks() as demo:\n",
        "    gr.Markdown(\"## 💬 Chat with AI (LangChain + DeepAI)\")\n",
        "\n",
        "    chatbot = gr.Chatbot()\n",
        "    msg = gr.Textbox(placeholder=\"Type your message...\", label=\"Your Message\")\n",
        "    clear = gr.Button(\"Clear Chat\")\n",
        "    state = gr.State([])\n",
        "\n",
        "    msg.submit(chat_with_bot, inputs=[msg, state], outputs=[chatbot, state, msg])\n",
        "    clear.click(lambda: ([], [], \"\"), None, [chatbot, state, msg])\n",
        "\n",
        "demo.launch(share=True)"
      ],
      "metadata": {
        "colab": {
          "base_uri": "https://localhost:8080/",
          "height": 646
        },
        "id": "a-cUijBK3ihD",
        "outputId": "058a55e0-9d07-466e-d40b-7e52ca6fa583"
      },
      "execution_count": null,
      "outputs": [
        {
          "output_type": "stream",
          "name": "stderr",
          "text": [
            "<ipython-input-4-63bbc70ee128>:47: UserWarning: You have not specified a value for the `type` parameter. Defaulting to the 'tuples' format for chatbot messages, but this is deprecated and will be removed in a future version of Gradio. Please set type='messages' instead, which uses openai-style dictionaries with 'role' and 'content' keys.\n",
            "  chatbot = gr.Chatbot()\n"
          ]
        },
        {
          "output_type": "stream",
          "name": "stdout",
          "text": [
            "Colab notebook detected. To show errors in colab notebook, set debug=True in launch()\n",
            "* Running on public URL: https://5bfa60696188cd1c29.gradio.live\n",
            "\n",
            "This share link expires in 72 hours. For free permanent hosting and GPU upgrades, run `gradio deploy` from the terminal in the working directory to deploy to Hugging Face Spaces (https://huggingface.co/spaces)\n"
          ]
        },
        {
          "output_type": "display_data",
          "data": {
            "text/plain": [
              "<IPython.core.display.HTML object>"
            ],
            "text/html": [
              "<div><iframe src=\"https://5bfa60696188cd1c29.gradio.live\" width=\"100%\" height=\"500\" allow=\"autoplay; camera; microphone; clipboard-read; clipboard-write;\" frameborder=\"0\" allowfullscreen></iframe></div>"
            ]
          },
          "metadata": {}
        },
        {
          "output_type": "execute_result",
          "data": {
            "text/plain": []
          },
          "metadata": {},
          "execution_count": 4
        }
      ]
    }
  ]
}