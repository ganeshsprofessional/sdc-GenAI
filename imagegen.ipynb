{
  "nbformat": 4,
  "nbformat_minor": 0,
  "metadata": {
    "colab": {
      "provenance": [],
      "authorship_tag": "ABX9TyOke0YyCqkE2eAXQMNdGxet",
      "include_colab_link": true
    },
    "kernelspec": {
      "name": "python3",
      "display_name": "Python 3"
    },
    "language_info": {
      "name": "python"
    }
  },
  "cells": [
    {
      "cell_type": "markdown",
      "metadata": {
        "id": "view-in-github",
        "colab_type": "text"
      },
      "source": [
        "<a href=\"https://colab.research.google.com/github/ganeshsprofessional/sdc-GenAI/blob/main/imagegen.ipynb\" target=\"_parent\"><img src=\"https://colab.research.google.com/assets/colab-badge.svg\" alt=\"Open In Colab\"/></a>"
      ]
    },
    {
      "cell_type": "code",
      "source": [
        "!pip install streamlit pyngrok requests --quiet\n"
      ],
      "metadata": {
        "id": "1YjB2Zxlz_2P"
      },
      "execution_count": null,
      "outputs": []
    },
    {
      "cell_type": "code",
      "source": [
        "from IPython.display import clear_output\n",
        "\n",
        "# Replace this with your actual DeepAI API key\n",
        "DEEPAI_API_KEY = \"3e3ff45f-23c7-4571-beab-9099ee9ff942\" #change\n",
        "\n",
        "# Write the app to a file\n",
        "app_code = f\"\"\"\n",
        "import streamlit as st\n",
        "import requests\n",
        "\n",
        "st.set_page_config(page_title=\"AI Image Generator\")\n",
        "st.title(\"🎨 AI Image Generator\")\n",
        "\n",
        "prompt = st.text_input(\"Enter a text prompt:\", placeholder=\"e.g. A robot painting a sunset\")\n",
        "\n",
        "if st.button(\"Generate Image\"):\n",
        "    if prompt:\n",
        "        with st.spinner(\"Generating image...\"):\n",
        "            api_key = \"{DEEPAI_API_KEY}\"\n",
        "            response = requests.post(\n",
        "                \"https://api.deepai.org/api/text2img\",\n",
        "                data={{'text': prompt}},\n",
        "                headers={{'api-key': api_key}}\n",
        "            )\n",
        "            if response.status_code == 200:\n",
        "                image_url = response.json().get(\"output_url\")\n",
        "                if image_url:\n",
        "                    st.image(image_url, caption=\"Generated Image\")\n",
        "                    st.markdown(f\"[Download Image]({{image_url}})\")\n",
        "                else:\n",
        "                    st.error(\"No image returned.\")\n",
        "            else:\n",
        "                st.error(\"Error from API. Check API key or try again later.\")\n",
        "    else:\n",
        "        st.warning(\"Please enter a prompt.\")\n",
        "\"\"\"\n",
        "\n",
        "with open(\"app.py\", \"w\") as f:\n",
        "    f.write(app_code)\n",
        "\n",
        "clear_output()\n",
        "print(\"✅ Streamlit app is ready.\")\n"
      ],
      "metadata": {
        "colab": {
          "base_uri": "https://localhost:8080/"
        },
        "id": "ksburnmM0IhO",
        "outputId": "e0ab3baa-a2cf-4b98-e58b-2b975682e9d8"
      },
      "execution_count": null,
      "outputs": [
        {
          "output_type": "stream",
          "name": "stdout",
          "text": [
            "✅ Streamlit app is ready.\n"
          ]
        }
      ]
    },
    {
      "cell_type": "code",
      "source": [
        "from pyngrok import ngrok\n",
        "import time\n",
        "import os\n",
        "\n",
        "# Kill any existing streamlit processes\n",
        "os.system(\"pkill streamlit\")\n",
        "\n",
        "# Start the Streamlit app in background\n",
        "!streamlit run app.py &\n",
        "\n",
        "# Wait for Streamlit to start\n",
        "time.sleep(5)\n",
        "\n",
        "# 🔥 FIXED: Connect to localhost URL instead of port\n",
        "public_url = ngrok.connect(\"http://localhost:8501\", proto=\"http\")\n",
        "print(f\"🔗 Your app is live here: {public_url}\")\n"
      ],
      "metadata": {
        "colab": {
          "base_uri": "https://localhost:8080/"
        },
        "id": "zXmIrUAK0MuE",
        "outputId": "211b5dec-ad58-4167-837b-22c460848d50"
      },
      "execution_count": null,
      "outputs": [
        {
          "output_type": "stream",
          "name": "stdout",
          "text": [
            "\n",
            "Collecting usage statistics. To deactivate, set browser.gatherUsageStats to false.\n",
            "\u001b[0m\n",
            "\u001b[0m\n",
            "\u001b[34m\u001b[1m  You can now view your Streamlit app in your browser.\u001b[0m\n",
            "\u001b[0m\n",
            "\u001b[34m  Local URL: \u001b[0m\u001b[1mhttp://localhost:8501\u001b[0m\n",
            "\u001b[34m  Network URL: \u001b[0m\u001b[1mhttp://172.28.0.12:8501\u001b[0m\n",
            "\u001b[34m  External URL: \u001b[0m\u001b[1mhttp://34.80.69.132:8501\u001b[0m\n",
            "\u001b[0m\n",
            "\u001b[34m  Stopping...\u001b[0m\n",
            "🔗 Your app is live here: NgrokTunnel: \"https://23cc-34-80-69-132.ngrok-free.app\" -> \"http://localhost:8501\"\n"
          ]
        }
      ]
    }
  ]
}